{
  "nbformat": 4,
  "nbformat_minor": 0,
  "metadata": {
    "colab": {
      "name": "VAEs.ipynb",
      "version": "0.3.2",
      "provenance": [],
      "collapsed_sections": [],
      "include_colab_link": true
    },
    "kernelspec": {
      "name": "python3",
      "display_name": "Python 3"
    },
    "accelerator": "GPU"
  },
  "cells": [
    {
      "cell_type": "markdown",
      "metadata": {
        "id": "view-in-github",
        "colab_type": "text"
      },
      "source": [
        "<a href=\"https://colab.research.google.com/github/robertmoni/modelbasedrl/blob/master/VAEs.ipynb\" target=\"_parent\"><img src=\"https://colab.research.google.com/assets/colab-badge.svg\" alt=\"Open In Colab\"/></a>"
      ]
    },
    {
      "cell_type": "code",
      "metadata": {
        "id": "qOt-sj9JSJEU",
        "colab_type": "code",
        "outputId": "db374f3d-20a6-4aa0-8497-42ded7eb0621",
        "colab": {
          "base_uri": "https://localhost:8080/",
          "height": 187
        }
      },
      "source": [
        "!pip install pyro-ppl pystan"
      ],
      "execution_count": 0,
      "outputs": [
        {
          "output_type": "stream",
          "text": [
            "Requirement already satisfied: pyro-ppl in /usr/local/lib/python3.6/dist-packages (0.3.3)\n",
            "Requirement already satisfied: pystan in /usr/local/lib/python3.6/dist-packages (2.19.0.0)\n",
            "Requirement already satisfied: graphviz>=0.8 in /usr/local/lib/python3.6/dist-packages (from pyro-ppl) (0.10.1)\n",
            "Requirement already satisfied: six>=1.10.0 in /usr/local/lib/python3.6/dist-packages (from pyro-ppl) (1.12.0)\n",
            "Requirement already satisfied: torch>=1.1.0 in /usr/local/lib/python3.6/dist-packages (from pyro-ppl) (1.1.0)\n",
            "Requirement already satisfied: contextlib2 in /usr/local/lib/python3.6/dist-packages (from pyro-ppl) (0.5.5)\n",
            "Requirement already satisfied: tqdm>=4.31 in /usr/local/lib/python3.6/dist-packages (from pyro-ppl) (4.32.1)\n",
            "Requirement already satisfied: opt-einsum>=2.3.2 in /usr/local/lib/python3.6/dist-packages (from pyro-ppl) (2.3.2)\n",
            "Requirement already satisfied: numpy>=1.7 in /usr/local/lib/python3.6/dist-packages (from pyro-ppl) (1.16.3)\n",
            "Requirement already satisfied: Cython!=0.25.1,>=0.22 in /usr/local/lib/python3.6/dist-packages (from pystan) (0.29.7)\n"
          ],
          "name": "stdout"
        }
      ]
    },
    {
      "cell_type": "code",
      "metadata": {
        "id": "k6mZkupmSSRx",
        "colab_type": "code",
        "colab": {}
      },
      "source": [
        "import pyro\n",
        "import pyro.distributions as dist\n",
        "from pyro.infer.mcmc import MCMC, HMC, NUTS\n",
        "from pyro.optim import Adam\n",
        "from pyro.infer import SVI, Trace_ELBO\n",
        "import torch.distributions.constraints as constraints\n",
        "\n",
        "import pystan\n",
        "\n",
        "from statsmodels.distributions.empirical_distribution import ECDF\n",
        "from sklearn.neighbors import KernelDensity\n",
        "from sklearn.model_selection import GridSearchCV\n",
        "\n",
        "\n",
        "import numpy as np\n",
        "import scipy.stats as stats\n",
        "import pandas as pd\n",
        "\n",
        "import matplotlib.pyplot as plt\n",
        "import pandas as pd\n",
        "\n",
        "import torch\n",
        "from torch import Tensor\n",
        "import torch.nn as nn\n",
        "import torch.nn.functional as F\n",
        "import torch.optim as optim\n",
        "from torch.utils.data import DataLoader, TensorDataset"
      ],
      "execution_count": 0,
      "outputs": []
    },
    {
      "cell_type": "code",
      "metadata": {
        "id": "iuXefrGrXSpa",
        "colab_type": "code",
        "colab": {}
      },
      "source": [
        "# Setup some data\n",
        "theta = 0.6\n",
        "n = 1000\n",
        "y = stats.bernoulli.rvs(theta, size=n)"
      ],
      "execution_count": 0,
      "outputs": []
    },
    {
      "cell_type": "markdown",
      "metadata": {
        "id": "Xs1w4UJwYj49",
        "colab_type": "text"
      },
      "source": [
        "## Get MCMC samples for this model using Stan"
      ]
    },
    {
      "cell_type": "code",
      "metadata": {
        "id": "vJ5RL6khBrMg",
        "colab_type": "code",
        "outputId": "22be7502-4167-450d-efe5-fa2c45c6419e",
        "colab": {
          "base_uri": "https://localhost:8080/",
          "height": 34
        }
      },
      "source": [
        "#Compile model\n",
        "\n",
        "model_code = \"\"\"\n",
        "data {\n",
        "    int<lower=0> n;\n",
        "    int y[n];\n",
        "}\n",
        "parameters {\n",
        "    real<lower=0, upper=1> theta;\n",
        "}\n",
        "model {\n",
        "    // likehood:\n",
        "    y ~ bernoulli(theta);\n",
        "    \n",
        "    // prior:\n",
        "    theta ~ beta(0.5, 0.5);\n",
        "}\n",
        "\"\"\"\n",
        "\n",
        "sm = pystan.StanModel(model_code=model_code)"
      ],
      "execution_count": 0,
      "outputs": [
        {
          "output_type": "stream",
          "text": [
            "INFO:pystan:COMPILING THE C++ CODE FOR MODEL anon_model_cbff015f4398d041dc3dc90aad40531c NOW.\n"
          ],
          "name": "stderr"
        }
      ]
    },
    {
      "cell_type": "code",
      "metadata": {
        "id": "c_BJJVHhGJ_h",
        "colab_type": "code",
        "colab": {}
      },
      "source": [
        "# Sample model\n",
        "data_dict = {'y': y, 'n': n}\n",
        "fit = sm.sampling(data=data_dict, iter=1000, chains=4)"
      ],
      "execution_count": 0,
      "outputs": []
    },
    {
      "cell_type": "code",
      "metadata": {
        "id": "AxBYSv1QDwqB",
        "colab_type": "code",
        "outputId": "2aded813-3440-4a15-a8f3-cac6ce23108f",
        "colab": {
          "base_uri": "https://localhost:8080/",
          "height": 354
        }
      },
      "source": [
        "# Extract samples\n",
        "theta = fit.extract(permuted=True)['theta']\n",
        "\n",
        "# Print some statistics\n",
        "print(\"Some samples:\", theta[:10])\n",
        "print(\"Mean:\", np.mean(theta, axis=0))\n",
        "print(\"Standard deviation:\", np.std(theta, axis=0))\n",
        "\n",
        "# Prepare plots\n",
        "_, ax = plt.subplots(2, 2)\n",
        "\n",
        "# histograms\n",
        "# warning: for a caveat about using histograms see\n",
        "# https://stats.stackexchange.com/a/51753\n",
        "ax[0, 0].hist(theta, 15)\n",
        "ax[0, 1].hist(theta, 30)\n",
        "\n",
        "# Empirical cumulative distribution\n",
        "ecdf = ECDF(theta)\n",
        "ax[1, 0].plot(ecdf.x, ecdf.y)\n",
        "\n",
        "# Density estimation using KDE (with tuning parameter chosen by 3 fold CV)\n",
        "params_for_kde_cv = {'bandwidth': np.logspace(-2, 3, 10)}\n",
        "grid = GridSearchCV(KernelDensity(), params_for_kde_cv, cv=3)\n",
        "grid.fit(theta.reshape(-1, 1))\n",
        "x_kde = np.linspace(0, 1, 10000).reshape(-1, 1)\n",
        "y_kde = np.exp(grid.best_estimator_.score_samples(x_kde))\n",
        "ax[1, 1].plot(x_kde, y_kde)"
      ],
      "execution_count": 0,
      "outputs": [
        {
          "output_type": "stream",
          "text": [
            "Some samples: [0.61295504 0.62972802 0.61487219 0.62385754 0.57044825 0.61062003\n",
            " 0.5997759  0.60374794 0.584482   0.56985944]\n",
            "Mean: 0.6007145269718976\n",
            "Standard deviation: 0.015428704817597625\n"
          ],
          "name": "stdout"
        },
        {
          "output_type": "execute_result",
          "data": {
            "text/plain": [
              "[<matplotlib.lines.Line2D at 0x7f08cf6bcbe0>]"
            ]
          },
          "metadata": {
            "tags": []
          },
          "execution_count": 6
        },
        {
          "output_type": "display_data",
          "data": {
            "image/png": "[encoded data removed]",
            "text/plain": [
              "<Figure size 432x288 with 4 Axes>"
            ]
          },
          "metadata": {
            "tags": []
          }
        }
      ]
    },
    {
      "cell_type": "markdown",
      "metadata": {
        "id": "gHrplkFWY3ld",
        "colab_type": "text"
      },
      "source": [
        "## Get MCMC samples for this model using Pyro"
      ]
    },
    {
      "cell_type": "code",
      "metadata": {
        "id": "CZZUnlYYYRuj",
        "colab_type": "code",
        "outputId": "d8c42569-ac1b-4960-b8cf-30984e882e14",
        "colab": {
          "base_uri": "https://localhost:8080/",
          "height": 34
        }
      },
      "source": [
        "y_tensor = torch.as_tensor(y, dtype=torch.float32)\n",
        "\n",
        "def model(y_tensor):\n",
        "    prior_dist = dist.Beta(torch.Tensor([.5]), torch.Tensor([.5]))\n",
        "    theta = pyro.sample('theta', prior_dist)\n",
        "    with pyro.plate('observe_data'):\n",
        "        pyro.sample('obs', dist.Bernoulli(theta), obs=y_tensor)\n",
        "\n",
        "nuts_kernel = NUTS(model, adapt_step_size=True)\n",
        "mcmc_run = MCMC(nuts_kernel, num_samples=500, warmup_steps=300).run(y_tensor)\n",
        "posterior = mcmc_run.marginal('theta').empirical['theta']"
      ],
      "execution_count": 0,
      "outputs": [
        {
          "output_type": "stream",
          "text": [
            "Sample: 100%|██████████| 800/800 [00:06<00:00, 120.08it/s, step size=1.07e+00, acc. rate=0.897]\n"
          ],
          "name": "stderr"
        }
      ]
    },
    {
      "cell_type": "code",
      "metadata": {
        "id": "liU25QagUqms",
        "colab_type": "code",
        "outputId": "d7e9d217-f7ef-4e94-95b5-73ba1a354d4f",
        "colab": {
          "base_uri": "https://localhost:8080/",
          "height": 85
        }
      },
      "source": [
        "print(\"Some samples:\", posterior.sample((10,)).reshape(-1))\n",
        "print(\"Mean:\", posterior.mean)\n",
        "print(\"Standard deviation:\", posterior.stddev)"
      ],
      "execution_count": 0,
      "outputs": [
        {
          "output_type": "stream",
          "text": [
            "Some samples: tensor([0.5688, 0.5738, 0.5995, 0.5835, 0.5992, 0.5903, 0.5898, 0.6041, 0.5919,\n",
            "        0.6167])\n",
            "Mean: tensor([0.5998])\n",
            "Standard deviation: tensor([0.0151])\n"
          ],
          "name": "stdout"
        }
      ]
    },
    {
      "cell_type": "markdown",
      "metadata": {
        "id": "OMfd4QjNnATb",
        "colab_type": "text"
      },
      "source": [
        "## Get replications (new instances of similar to data) from MCMC samples"
      ]
    },
    {
      "cell_type": "code",
      "metadata": {
        "id": "o5BKWMvHnJK6",
        "colab_type": "code",
        "outputId": "2ae0c157-a00f-49be-e641-2726f9d7b34b",
        "colab": {
          "base_uri": "https://localhost:8080/",
          "height": 320
        }
      },
      "source": [
        "no_replications = 10000\n",
        "\n",
        "posterior_samples = posterior.sample((no_replications,))\n",
        "posterior_samples = posterior_samples.numpy().reshape(-1)\n",
        "\n",
        "replications = stats.bernoulli.rvs(posterior_samples)\n",
        "bins = np.arange(0, replications.max() + 1.5) - 0.5\n",
        "_, ax = plt.subplots()\n",
        "ax.hist(replications, bins)\n",
        "ax.set_xticks(bins + 0.5)"
      ],
      "execution_count": 0,
      "outputs": [
        {
          "output_type": "execute_result",
          "data": {
            "text/plain": [
              "[<matplotlib.axis.XTick at 0x7f08cf736c88>,\n",
              " <matplotlib.axis.XTick at 0x7f08cf7cf550>,\n",
              " <matplotlib.axis.XTick at 0x7f08cf7cf940>]"
            ]
          },
          "metadata": {
            "tags": []
          },
          "execution_count": 9
        },
        {
          "output_type": "display_data",
          "data": {
            "image/png": "[encoded data removed]",
            "text/plain": [
              "<Figure size 432x288 with 1 Axes>"
            ]
          },
          "metadata": {
            "tags": []
          }
        }
      ]
    },
    {
      "cell_type": "markdown",
      "metadata": {
        "id": "pSFfXqFzY6rt",
        "colab_type": "text"
      },
      "source": [
        "## Get approximate Bayesian inference for Pyro and stochatisc variational inference"
      ]
    },
    {
      "cell_type": "code",
      "metadata": {
        "id": "3OEK2MFJUvEx",
        "colab_type": "code",
        "colab": {}
      },
      "source": [
        "def model(y_tensor):\n",
        "    prior_dist = dist.Beta(torch.Tensor([.5]), torch.Tensor([.5]))\n",
        "    theta = pyro.sample('theta', prior_dist)\n",
        "    with pyro.plate('observe_data'):\n",
        "        pyro.sample('obs', dist.Bernoulli(theta), obs=y_tensor)\n",
        "\n",
        "def guide(y_tensor):\n",
        "    alpha = pyro.param(\"alpha\", torch.Tensor([1.0]),\n",
        "                       constraint=constraints.positive)\n",
        "    beta = pyro.param(\"beta\", torch.Tensor([1.0]),\n",
        "                       constraint=constraints.positive)\n",
        "    theta = pyro.sample('theta', dist.Beta(alpha, beta))"
      ],
      "execution_count": 0,
      "outputs": []
    },
    {
      "cell_type": "code",
      "metadata": {
        "id": "yHyBUAE9ax1R",
        "colab_type": "code",
        "colab": {}
      },
      "source": [
        "# set up the optimizer\n",
        "pyro.clear_param_store()\n",
        "adam_params = {\"lr\": 0.2, \"betas\": (0.90, 0.999)}\n",
        "optimizer = Adam(adam_params)\n",
        "\n",
        "# setup the inference algorithm\n",
        "svi = SVI(model, guide, optimizer, loss=Trace_ELBO())\n",
        "\n",
        "n_steps = 100\n",
        "# do gradient steps\n",
        "for step in range(n_steps):\n",
        "    svi.step(y_tensor)"
      ],
      "execution_count": 0,
      "outputs": []
    },
    {
      "cell_type": "code",
      "metadata": {
        "id": "2il2SgT5aumi",
        "colab_type": "code",
        "outputId": "96e78127-5320-41f6-97c7-31be5667d1ca",
        "colab": {
          "base_uri": "https://localhost:8080/",
          "height": 388
        }
      },
      "source": [
        "alpha = pyro.param(\"alpha\")\n",
        "beta = pyro.param(\"beta\")\n",
        "    \n",
        "inf_distribution = stats.beta(alpha.data.numpy(), beta.data.numpy())\n",
        "print(\"Some samples:\", inf_distribution.rvs(10))\n",
        "print(\"Mean:\", inf_distribution.mean())\n",
        "print(\"Standard deviation:\", inf_distribution.std())\n",
        "\n",
        "_, axes = plt.subplots(2)\n",
        "\n",
        "# Plot the posterior\n",
        "x_svi = np.linspace(0, 1, 10000)\n",
        "y_svi = inf_distribution.pdf(x_svi)\n",
        "axes[0].plot(x_svi, y_svi)\n",
        "\n",
        "# Plot replications\n",
        "posterior_samples = posterior.sample((no_replications,))\n",
        "posterior_samples = posterior_samples.numpy().reshape(-1)\n",
        "\n",
        "replications = stats.bernoulli.rvs(posterior_samples)\n",
        "bins = np.arange(0, replications.max() + 1.5) - 0.5\n",
        "axes[1].hist(replications, bins)\n",
        "axes[1].set_xticks(bins + 0.5)"
      ],
      "execution_count": 0,
      "outputs": [
        {
          "output_type": "stream",
          "text": [
            "Some samples: [0.74527141 0.51609851 0.36864775 0.58797763 0.41954004 0.59100899\n",
            " 0.731861   0.52022881 0.56102338 0.64184099]\n",
            "Mean: [0.55838448]\n",
            "Standard deviation: [0.10022922]\n"
          ],
          "name": "stdout"
        },
        {
          "output_type": "execute_result",
          "data": {
            "text/plain": [
              "[<matplotlib.axis.XTick at 0x7f08d05548d0>,\n",
              " <matplotlib.axis.XTick at 0x7f08d054d438>,\n",
              " <matplotlib.axis.XTick at 0x7f08d054dc50>]"
            ]
          },
          "metadata": {
            "tags": []
          },
          "execution_count": 12
        },
        {
          "output_type": "display_data",
          "data": {
            "image/png": "[encoded data removed]",
            "text/plain": [
              "<Figure size 432x288 with 2 Axes>"
            ]
          },
          "metadata": {
            "tags": []
          }
        }
      ]
    },
    {
      "cell_type": "markdown",
      "metadata": {
        "id": "Skv0GLRriN5m",
        "colab_type": "text"
      },
      "source": [
        "## Using GPU and data subsampling with Pyro "
      ]
    },
    {
      "cell_type": "code",
      "metadata": {
        "id": "eHr1j4ZeiSXa",
        "colab_type": "code",
        "colab": {}
      },
      "source": [
        "# Setup some data for another model\n",
        "mu = -0.6\n",
        "sigma = 1.8\n",
        "\n",
        "n2 = 10000\n",
        "y2 = stats.norm.rvs(mu, sigma, size=n2)\n",
        "y2_tensor = torch.as_tensor(y2, dtype=torch.float32).cuda()"
      ],
      "execution_count": 0,
      "outputs": []
    },
    {
      "cell_type": "code",
      "metadata": {
        "id": "eT_xpEVMiffT",
        "colab_type": "code",
        "colab": {}
      },
      "source": [
        "def model(y2_tensor):\n",
        "    # Priors:\n",
        "    prior_dist_mu = dist.Normal(torch.Tensor([0.]).cuda(),\n",
        "                                torch.Tensor([1.]).cuda())\n",
        "    mu = pyro.sample('mu', prior_dist_mu)\n",
        "    \n",
        "    prior_dist_sigma = dist.Gamma(torch.Tensor([1.]).cuda(),\n",
        "                                  torch.Tensor([1.]).cuda())\n",
        "    sigma = pyro.sample('sigma', prior_dist_sigma)\n",
        "    \n",
        "    # Likelihood:\n",
        "    with pyro.plate('observe_data', size=len(y2_tensor),\n",
        "        subsample_size=5000, use_cuda=True) as ind:\n",
        "        pyro.sample('obs', dist.Normal(mu, sigma),\n",
        "            obs=y2_tensor.index_select(0, ind))\n",
        "        \n",
        "\n",
        "def guide(y2_tensor):\n",
        "    alpha_mu = pyro.param(\"alpha_mu\", torch.Tensor([0.0]).cuda())\n",
        "    beta_mu = pyro.param(\"beta_mu\", torch.Tensor([3.0]).cuda(),\n",
        "        constraint=constraints.positive)\n",
        "    mu = pyro.sample('mu', dist.Normal(alpha_mu, beta_mu))\n",
        "\n",
        "    alpha_sigma = pyro.param(\"alpha_sigma\", torch.Tensor([1.0]).cuda(),\n",
        "        constraint=constraints.positive)\n",
        "    beta_sigma = pyro.param(\"beta_sigma\", torch.Tensor([1.0]).cuda(),\n",
        "        constraint=constraints.positive)\n",
        "    sigma = pyro.sample('sigma', dist.Gamma(alpha_sigma, beta_sigma))"
      ],
      "execution_count": 0,
      "outputs": []
    },
    {
      "cell_type": "code",
      "metadata": {
        "id": "HDEiFzsFkyPO",
        "colab_type": "code",
        "colab": {}
      },
      "source": [
        "# set up the optimizer\n",
        "pyro.clear_param_store()\n",
        "adam_params = {\"lr\": 0.2, \"betas\": (0.90, 0.999)}\n",
        "optimizer = Adam(adam_params)\n",
        "\n",
        "# setup the inference algorithm\n",
        "svi = SVI(model, guide, optimizer, loss=Trace_ELBO())\n",
        "\n",
        "n_steps = 10\n",
        "# do gradient steps\n",
        "for step in range(n_steps):\n",
        "    svi.step(y2_tensor)"
      ],
      "execution_count": 0,
      "outputs": []
    },
    {
      "cell_type": "code",
      "metadata": {
        "id": "fiq-YmJdmOU4",
        "colab_type": "code",
        "outputId": "18540fd2-4e24-40f7-f081-a3cf9584539b",
        "colab": {
          "base_uri": "https://localhost:8080/",
          "height": 286
        }
      },
      "source": [
        "# Generate replications\n",
        "\n",
        "alpha_mu = pyro.param(\"alpha_mu\")\n",
        "beta_mu = pyro.param(\"beta_mu\")\n",
        "alpha_sigma = pyro.param(\"alpha_sigma\")\n",
        "beta_sigma = pyro.param(\"beta_sigma\")\n",
        "    \n",
        "mu_distribution = stats.norm(alpha_mu.item(), beta.data.item())\n",
        "sigma_distribution = stats.gamma(alpha_sigma.item(), beta_sigma.item())\n",
        "\n",
        "mu_samples = mu_distribution.rvs(no_replications)\n",
        "sigma_samples = sigma_distribution.rvs(no_replications)\n",
        "\n",
        "data_replications = stats.norm(mu_samples, sigma_samples).rvs()\n",
        "\n",
        "# Density estimation using KDE (with tuning parameter chosen by 3 fold CV)\n",
        "params_for_kde_cv = {'bandwidth': np.logspace(-2, 3, 10)}\n",
        "grid = GridSearchCV(KernelDensity(), params_for_kde_cv, cv=3)\n",
        "grid.fit(data_replications.reshape(-1, 1))\n",
        "x_kde = np.linspace(-20, 20, 10000).reshape(-1, 1)\n",
        "y_kde = np.exp(grid.best_estimator_.score_samples(x_kde))\n",
        "plt.plot(x_kde, y_kde)"
      ],
      "execution_count": 0,
      "outputs": [
        {
          "output_type": "execute_result",
          "data": {
            "text/plain": [
              "[<matplotlib.lines.Line2D at 0x7f08cfc7fb00>]"
            ]
          },
          "metadata": {
            "tags": []
          },
          "execution_count": 16
        },
        {
          "output_type": "display_data",
          "data": {
            "image/png": "[encoded data removed]",
            "text/plain": [
              "<Figure size 432x288 with 1 Axes>"
            ]
          },
          "metadata": {
            "tags": []
          }
        }
      ]
    },
    {
      "cell_type": "code",
      "metadata": {
        "id": "lk1-rqM-HiCu",
        "colab_type": "code",
        "colab": {}
      },
      "source": [
        "# define the PyTorch module that parameterizes the\n",
        "# diagonal gaussian distribution q(z|x)\n",
        "class Encoder(nn.Module):\n",
        "    def __init__(self, z_dim, hidden_dim, input_dim):\n",
        "        super(Encoder, self).__init__()\n",
        "        # setup the three linear transformations used\n",
        "        self.fc1 = nn.Linear(input_dim, hidden_dim)\n",
        "        self.fc21 = nn.Linear(hidden_dim, z_dim)\n",
        "        self.fc22 = nn.Linear(hidden_dim, z_dim)\n",
        "        # setup the non-linearities\n",
        "        self.softplus = nn.Softplus()\n",
        "\n",
        "    def forward(self, x):\n",
        "        # then compute the hidden units\n",
        "        hidden = self.softplus(self.fc1(x))\n",
        "        # then return a mean vector and a (positive) square root covariance\n",
        "        # each of size batch_size x z_dim\n",
        "        z_loc = self.fc21(hidden)\n",
        "        z_scale = torch.exp(self.fc22(hidden))\n",
        "        return z_loc, z_scale\n",
        "\n",
        "\n",
        "# define the PyTorch module that parameterizes the\n",
        "# observation likelihood p(x|z)\n",
        "class Decoder(nn.Module):\n",
        "    def __init__(self, z_dim, hidden_dim, input_dim):\n",
        "        super(Decoder, self).__init__()\n",
        "        # setup the two linear transformations used\n",
        "        self.fc1 = nn.Linear(z_dim, hidden_dim)\n",
        "        self.fc21 = nn.Linear(hidden_dim, input_dim)\n",
        "        self.fc22 = nn.Linear(hidden_dim, input_dim)\n",
        "        # setup the non-linearities\n",
        "        self.softplus = nn.Softplus()\n",
        "\n",
        "    def forward(self, z):\n",
        "        # define the forward computation on the latent z\n",
        "        # first compute the hidden units\n",
        "        hidden = self.softplus(self.fc1(z))\n",
        "        \n",
        "        mu = self.fc21(hidden)\n",
        "        sigma = torch.exp(self.fc22(hidden))\n",
        "        return mu, sigma\n",
        "\n",
        "\n",
        "# define a PyTorch module for the VAE\n",
        "class VAE(nn.Module):\n",
        "    # by default our latent space is 50-dimensional\n",
        "    # and we use 400 hidden units\n",
        "    def __init__(self, input_dim,\n",
        "        z_dim=50, hidden_dim=400, use_cuda=False):\n",
        "        super(VAE, self).__init__()\n",
        "        # create the encoder and decoder networks\n",
        "        self.encoder = Encoder(z_dim, hidden_dim, input_dim=input_dim)\n",
        "        self.decoder = Decoder(z_dim, hidden_dim, input_dim=input_dim)\n",
        "\n",
        "        if use_cuda:\n",
        "            # calling cuda() here will put all the parameters of\n",
        "            # the encoder and decoder networks into gpu memory\n",
        "            self.cuda()\n",
        "        self.use_cuda = use_cuda\n",
        "        self.z_dim = z_dim\n",
        "\n",
        "    # define the model p(x|z)p(z)\n",
        "    def model(self, x):\n",
        "        # register PyTorch module `decoder` with Pyro\n",
        "        pyro.module(\"decoder\", self.decoder)\n",
        "        with pyro.plate(\"data\", x.shape[0]):\n",
        "            # setup hyperparameters for prior p(z)\n",
        "            z_loc = torch.zeros(x.shape[0], self.z_dim, dtype=x.dtype, device=x.device)\n",
        "            z_scale = torch.ones(x.shape[0], self.z_dim, dtype=x.dtype, device=x.device)\n",
        "            # sample from prior (value will be sampled by guide when computing the ELBO)\n",
        "            z = pyro.sample(\"latent\", dist.Normal(z_loc, z_scale).to_event(1))\n",
        "            # decode the latent code z\n",
        "            mu, sigma = self.decoder.forward(z)\n",
        "            # score against actual images\n",
        "            pyro.sample(\"obs\", dist.Normal(mu, sigma).to_event(1), obs=x)\n",
        "            # return the loc so we can visualize it later\n",
        "            #return loc_img\n",
        "\n",
        "    # define the guide (i.e. variational distribution) q(z|x)\n",
        "    def guide(self, x):\n",
        "        # register PyTorch module `encoder` with Pyro\n",
        "        pyro.module(\"encoder\", self.encoder)\n",
        "        with pyro.plate(\"data\", x.shape[0]):\n",
        "            # use the encoder to get the parameters used to define q(z|x)\n",
        "            z_loc, z_scale = self.encoder.forward(x)\n",
        "            # sample the latent code z\n",
        "            pyro.sample(\"latent\", dist.Normal(z_loc, z_scale).to_event(1))\n",
        "\n",
        "    # define a helper function for reconstructing images\n",
        "    def reconstruct_img(self, x):\n",
        "        # encode image x\n",
        "        z_loc, z_scale = self.encoder(x)\n",
        "        # sample in latent space\n",
        "        z = dist.Normal(z_loc, z_scale).sample()\n",
        "        # decode the image (note we don't sample in image space)\n",
        "        loc_img = self.decoder(z)\n",
        "        return loc_img\n",
        "      \n",
        "    def new_instances(self, size=1):\n",
        "         z = stats.norm.rvs(size=(size, self.z_dim))\n",
        "         mu, sigma = self.decoder.forward(torch.as_tensor(z,\n",
        "             device=torch.device('cuda'), dtype=torch.float32))\n",
        "         return stats.norm.rvs(mu.data.cpu().numpy(), sigma.data.cpu().numpy())"
      ],
      "execution_count": 0,
      "outputs": []
    },
    {
      "cell_type": "markdown",
      "metadata": {
        "id": "rA1jNJOJ92fu",
        "colab_type": "text"
      },
      "source": [
        "## Variational autoencoders"
      ]
    },
    {
      "cell_type": "code",
      "metadata": {
        "id": "6wQWH15L91jW",
        "colab_type": "code",
        "outputId": "647789c1-5973-42a9-daab-77246a6af4e4",
        "colab": {
          "base_uri": "https://localhost:8080/",
          "height": 187
        }
      },
      "source": [
        "# clear param store\n",
        "pyro.clear_param_store()\n",
        "\n",
        "no_instances = 20000\n",
        "input_dim = 3\n",
        "mu = stats.norm.rvs(size=input_dim)\n",
        "\n",
        "# Generate a positive definite matrix\n",
        "sigma = stats.norm.rvs(size=(input_dim, input_dim))\n",
        "sigma[np.triu_indices(input_dim)] = 0\n",
        "sigma += np.diag(np.abs(stats.norm.rvs(size=input_dim)))\n",
        "sigma = np.matmul(sigma.transpose(), sigma) # inverse cholesky decomposition\n",
        "\n",
        "dataset = stats.multivariate_normal.rvs(mu, sigma, size=no_instances)\n",
        "dataset = torch.as_tensor(dataset, dtype=torch.float32)\n",
        "dataset = TensorDataset(dataset)\n",
        "train_loader = DataLoader(dataset, batch_size=1000, shuffle=True,\n",
        "     num_workers=1, pin_memory=True, drop_last=False)\n",
        "\n",
        "# setup the VAE\n",
        "vae = VAE(use_cuda=True, input_dim=input_dim)\n",
        "\n",
        "adam_args = {\"lr\": 0.001}\n",
        "optimizer = Adam(adam_args)\n",
        "\n",
        "# setup the inference algorithm\n",
        "svi = SVI(vae.model, vae.guide, optimizer, loss=Trace_ELBO())\n",
        "\n",
        "train_elbo = []\n",
        "for epoch in range(100):\n",
        "    # initialize loss accumulator\n",
        "    epoch_loss = 0.\n",
        "    # do a training epoch over each mini-batch x returned\n",
        "    # by the data loader\n",
        "    for x, in train_loader:\n",
        "        x = x.cuda()\n",
        "        epoch_loss += svi.step(x)\n",
        "\n",
        "    # report training diagnostics\n",
        "    if not epoch % 10:\n",
        "        normalizer_train = len(train_loader.dataset)\n",
        "        total_epoch_loss_train = epoch_loss / normalizer_train\n",
        "        train_elbo.append(total_epoch_loss_train)\n",
        "        print(\"[epoch %03d]  average training loss: %.4f\" %\n",
        "             (epoch, total_epoch_loss_train))"
      ],
      "execution_count": 0,
      "outputs": [
        {
          "output_type": "stream",
          "text": [
            "[epoch 000]  average training loss: 12.0625\n",
            "[epoch 010]  average training loss: 5.7273\n",
            "[epoch 020]  average training loss: 5.3826\n",
            "[epoch 030]  average training loss: 5.3734\n",
            "[epoch 040]  average training loss: 5.3898\n",
            "[epoch 050]  average training loss: 5.3576\n",
            "[epoch 060]  average training loss: 5.3630\n",
            "[epoch 070]  average training loss: 5.3428\n",
            "[epoch 080]  average training loss: 5.3604\n",
            "[epoch 090]  average training loss: 5.3348\n"
          ],
          "name": "stdout"
        }
      ]
    },
    {
      "cell_type": "code",
      "metadata": {
        "id": "RgPXUrLyQSZv",
        "colab_type": "code",
        "outputId": "d6adf493-c6c3-483e-9197-195805526f41",
        "colab": {
          "base_uri": "https://localhost:8080/",
          "height": 238
        }
      },
      "source": [
        "# Generating new instances (replications) from the trained VAE\n",
        "new_instances = vae.new_instances(100000)\n",
        "\n",
        "print(\"True means\")\n",
        "print(mu)\n",
        "print(\"Empirical means of replications:\")\n",
        "print(new_instances.mean(0))\n",
        "\n",
        "print(\"----------------------------------------\")\n",
        "\n",
        "print(\"True covariance matrix\")\n",
        "print(sigma)\n",
        "print(\"Empirical covariance matrix of replications:\")\n",
        "print(np.cov(new_instances, rowvar=False))"
      ],
      "execution_count": 0,
      "outputs": [
        {
          "output_type": "stream",
          "text": [
            "True means\n",
            "[ 0.96114028 -0.20429133 -0.83652706]\n",
            "Empirical means of replications:\n",
            "[ 0.96612779 -0.23635043 -0.91886219]\n",
            "----------------------------------------\n",
            "True covariance matrix\n",
            "[[ 4.74371511 -2.46075695 -1.97981744]\n",
            " [-2.46075695  2.67486053  1.06406042]\n",
            " [-1.97981744  1.06406042  1.70799343]]\n",
            "Empirical covariance matrix of replications:\n",
            "[[ 4.73416853 -2.35541449 -1.90316439]\n",
            " [-2.35541449  2.74554436  1.07713679]\n",
            " [-1.90316439  1.07713679  1.70246573]]\n"
          ],
          "name": "stdout"
        }
      ]
    }
  ]
}